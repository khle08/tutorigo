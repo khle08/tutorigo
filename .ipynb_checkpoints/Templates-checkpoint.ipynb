{
 "cells": [
  {
   "cell_type": "markdown",
   "metadata": {},
   "source": [
    "```go\n",
    "import (\n",
    "    \"net/http\"\n",
    "    \"html/template\"\n",
    ")\n",
    "```"
   ]
  },
  {
   "cell_type": "code",
   "execution_count": null,
   "metadata": {},
   "outputs": [],
   "source": []
  },
  {
   "cell_type": "markdown",
   "metadata": {},
   "source": [
    "# Template 组成\n",
    "\n",
    "```go\n",
    "var tmp *template.Template\n",
    "tmp = template.Must(template.ParseGlob(\"templates/*.html\"))\n",
    "```\n",
    "\n",
    "当一个 Template 通过上述方式创建的时候，其实它是在变量里面创建了一个 `map` 物件。\n",
    "\n",
    "```go\n",
    "map[string]*Template {\n",
    "    \"home.html\": &Template {\n",
    "        name: \"home.html\",\n",
    "        Tree: /* template body */,\n",
    "    },\n",
    "    \"about.html\": &Template {\n",
    "        name: \"about.html\",\n",
    "        Tree: /* template body */,\n",
    "    },\n",
    "    \"contact.html\": &Template {\n",
    "        name: \"contact.html\",\n",
    "        Tree: /* template body */,\n",
    "    },\n",
    "}\n",
    "```"
   ]
  },
  {
   "cell_type": "code",
   "execution_count": null,
   "metadata": {},
   "outputs": [],
   "source": []
  },
  {
   "cell_type": "markdown",
   "metadata": {},
   "source": [
    "# Template 其他方法\n",
    "```go\n",
    "// 通过文件名获取模版\n",
    "tmp.Name() == \"home.html\"\n",
    "// 执行当前获取的模版\n",
    "tmp.Execute(w, data)\n",
    "// 执行指定的模版 同时传入数据\n",
    "tmp.ExecuteTemplate(w, \"home.html\", data)\n",
    "\n",
    "// 遍历所有的模版 前面带上第几个的标签\n",
    "for i, t := range tmp.Templates() { ... }\n",
    "// 以字符串形式拿到定义的模版的名字\n",
    "fmt.Printf(\"%s\\n\", tmp.DefinedTemplates())\n",
    "\n",
    "// 将当前模版设置成 about.html\n",
    "tmp = tmp.Lookup(\"about.html\")\n",
    "// 如果当前没有这个模版的名字，那就返回 nil\n",
    "tmp.Lookup(\"weofuhqowe\") == nil\n",
    "```"
   ]
  },
  {
   "cell_type": "code",
   "execution_count": null,
   "metadata": {},
   "outputs": [],
   "source": []
  },
  {
   "cell_type": "markdown",
   "metadata": {},
   "source": [
    "# Template 定义位置\n",
    "\n",
    "```html\n",
    "<!-- home.html -->\n",
    "\n",
    "{{ template \"home.html\" }}\n",
    "<h1>hello, my name is {{ .name }}</h1>\n",
    "{{ template \"footer\" }}\n",
    "```\n",
    "\n",
    "---\n",
    "\n",
    "```go\n",
    "// main.go\n",
    "\n",
    "t, _ := template.new(\"home.html\").Parse(`\n",
    "{{ template \"home.html\" }}\n",
    "<h1>hello, my name is {{ .name }}</h1>\n",
    "{{ template \"footer\" }}\n",
    "`)\n",
    "```"
   ]
  },
  {
   "cell_type": "markdown",
   "metadata": {},
   "source": [
    "```html\n",
    "<!-- common.html -->\n",
    "\n",
    "{{ define \"header\" }}\n",
    "<header>\n",
    "    <p><a href=\"/\">Home</a></p>\n",
    "    <p><a href=\"/about\">About Me</a></p>\n",
    "    <p><a href=\"/contact\">Contact</a></p>\n",
    "</header>\n",
    "{{ end }}\n",
    "\n",
    "{{ define \"footer\" }}\n",
    "<p>Copy Rigth 2022. All right Reserved</p>\n",
    "{{ end }}\n",
    "```\n",
    "---\n",
    "\n",
    "```go\n",
    "// main.go\n",
    "\n",
    "_, _ := template.new(\"header\").Parse(`\n",
    "<header>\n",
    "    <p><a href=\"/\">Home</a></p>\n",
    "    <p><a href=\"/about\">About Me</a></p>\n",
    "    <p><a href=\"/contact\">Contact</a></p>\n",
    "</header>\n",
    "`)\n",
    "_, _ := template.new(\"footer\").Parse(`\n",
    "    <p>Copy Rigth 2022. All right Reserved</p>\n",
    "`)\n",
    "```"
   ]
  },
  {
   "cell_type": "markdown",
   "metadata": {},
   "source": [
    "# Template 的取代\n",
    "如果在模版文件里通过 `{{ define \"...\" }}` 定义了一个内容，还想替换这块内容，只需要在引入的地方重新定义一个一模一样名字的块即可。\n",
    "\n",
    "```html\n",
    "{{ template \"header\" }}\n",
    "{{ define \"content\" }}\n",
    "    <p>This is a placeholder</p>\n",
    "{{ end }}\n",
    "```\n",
    "\n",
    "除了这种方式之外，还有一种快捷的写法 `{{ block \"content\" . }}`:\n",
    "```html\n",
    "{{ block \"content\" . }}\n",
    "    <p>This is a placeholder</p>\n",
    "{{ end }}\n",
    "```"
   ]
  },
  {
   "cell_type": "code",
   "execution_count": null,
   "metadata": {},
   "outputs": [],
   "source": []
  },
  {
   "cell_type": "markdown",
   "metadata": {},
   "source": [
    "主程序用来串联网址和函数\n",
    "\n",
    "```go\n",
    "func main() {\n",
    "    http.HandleFunc(\"/\", home)\n",
    "    http.HandleFunc(\"/about\", about)\n",
    "    http.HandleFunc(\"/contact\", contact)\n",
    "    http.ListenAndServe(\":8000\", nil)   \n",
    "}\n",
    "```"
   ]
  },
  {
   "cell_type": "code",
   "execution_count": null,
   "metadata": {},
   "outputs": [],
   "source": []
  },
  {
   "cell_type": "markdown",
   "metadata": {},
   "source": [
    "视图函数的功能\n",
    "\n",
    "```go\n",
    "func home(w http.ResponseWriter, r *http.Request) {\n",
    "    tmp.ExecuteTemplate(w, \"home.html\", \"variable\")\n",
    "}\n",
    "```"
   ]
  },
  {
   "cell_type": "markdown",
   "metadata": {},
   "source": [
    "在模版里面的 `html` 写起来得像这样：\n",
    "```html\n",
    "<h1>{{ . }}</h1>\n",
    "```\n",
    "\n",
    "通过最后一个变量传入之后，在浏览器呈现的东西就会是这样：\n",
    "```html\n",
    "<h1>variable</h1>\n",
    "```"
   ]
  },
  {
   "cell_type": "code",
   "execution_count": null,
   "metadata": {},
   "outputs": [],
   "source": []
  },
  {
   "cell_type": "markdown",
   "metadata": {},
   "source": [
    "```go\n",
    "type person struct {\n",
    "    First string\n",
    "    Last string\n",
    "}\n",
    "\n",
    "func about(w http.ResponseWriter, r *http.Request) {\n",
    "    p := person{\"James\", \"bond\"}\n",
    "    tmp.ExecuteTemplate(w, \"about.html\", p)\n",
    "}\n",
    "```"
   ]
  },
  {
   "cell_type": "markdown",
   "metadata": {},
   "source": [
    "在模版里面的 `html` 写起来得像这样：\n",
    "```html\n",
    "<h1>{{ . }}</h1>\n",
    "<h1>{{ .First }}</h1>\n",
    "<h1>{{ .Last }}</h1>\n",
    "```\n",
    "\n",
    "通过最后一个变量传入之后，在浏览器呈现的东西就会是这样：\n",
    "```html\n",
    "<h1>{James Bond}</h1>\n",
    "<h1>James</h1>\n",
    "<h1>Bond</h1>\n",
    "```"
   ]
  },
  {
   "cell_type": "code",
   "execution_count": null,
   "metadata": {},
   "outputs": [],
   "source": []
  },
  {
   "cell_type": "markdown",
   "metadata": {},
   "source": [
    "```go\n",
    "func contact(w http.ResponseWriter, r *http.Request) {\n",
    "    arr := []int{3, 5, 7, 9, 17, 23}\n",
    "    tmp.ExecuteTemplate(w, \"contact.html\", arr)\n",
    "}\n",
    "```"
   ]
  },
  {
   "cell_type": "markdown",
   "metadata": {},
   "source": [
    "在模版里面的 `html` 写起来得像这样：\n",
    "```html\n",
    "<h1>{{ . }}</h1>\n",
    "<h1>{{ range . }}</h1>\n",
    "<h1>{{ . }}</h1>\n",
    "<h1>{{ end }}</h1>\n",
    "```\n",
    "\n",
    "通过最后一个变量传入之后，在浏览器呈现的东西就会是这样：\n",
    "```html\n",
    "<h1>[3, 5, 7, 9, 17, 23]</h1>\n",
    "<h1>3</h1>\n",
    "<h1>5</h1>\n",
    "<h1>7</h1>\n",
    "<h1>9</h1>\n",
    "<h1>17</h1>\n",
    "<h1>23</h1>\n",
    "```"
   ]
  },
  {
   "cell_type": "markdown",
   "metadata": {},
   "source": [
    "在模版里面的 `html` 写起来得像这样：\n",
    "```html\n",
    "<h1>{{ . }}</h1>\n",
    "<h1>{{ range $key, $index := . }}</h1>\n",
    "<h1>{{ . }} {{ $key }} {{ $index }}</h1>\n",
    "<h1>{{ end }}</h1>\n",
    "```\n",
    "\n",
    "通过最后一个变量传入之后，在浏览器呈现的东西就会是这样：\n",
    "```html\n",
    "<h1>[3, 5, 7, 9, 17, 23]</h1>\n",
    "<h1>3 0 3</h1>\n",
    "<h1>5 1 5</h1>\n",
    "<h1>7 2 7</h1>\n",
    "<h1>9 3 9</h1>\n",
    "<h1>17 4 17</h1>\n",
    "<h1>23 5 23</h1>\n",
    "```"
   ]
  },
  {
   "cell_type": "code",
   "execution_count": null,
   "metadata": {},
   "outputs": [],
   "source": []
  },
  {
   "cell_type": "markdown",
   "metadata": {},
   "source": [
    "```go\n",
    "func home(w http.ResponseWriter, r *http.Request) {\n",
    "    mp := map[string]int{\n",
    "        \"James\": 32,\n",
    "        \"Bond\": 43,\n",
    "    }\n",
    "    tmp.ExecuteTemplate(w, \"home.html\", mp)\n",
    "}\n",
    "```"
   ]
  },
  {
   "cell_type": "markdown",
   "metadata": {},
   "source": [
    "在模版里面的 `html` 写起来得像这样：\n",
    "```html\n",
    "<h1>{{ . }}</h1>\n",
    "<h1>{{ range . }}</h1>\n",
    "<h1>{{ . }}</h1>\n",
    "<h1>{{ end }}</h1>\n",
    "```\n",
    "\n",
    "通过最后一个变量传入之后，在浏览器呈现的东西就会是这样：\n",
    "```html\n",
    "<h1>map[James:32 Bond:43]</h1>\n",
    "<h1>32</h1>\n",
    "<h1>43</h1>\n",
    "```"
   ]
  },
  {
   "cell_type": "markdown",
   "metadata": {},
   "source": [
    "在模版里面的 `html` 写起来得像这样：\n",
    "```html\n",
    "<h1>{{ . }}</h1>\n",
    "<h1>{{ range $name, $age := . }}</h1>\n",
    "<h1>{{ $name }}, {{ $age }}</h1>\n",
    "<h1>{{ end }}</h1>\n",
    "```\n",
    "\n",
    "通过最后一个变量传入之后，在浏览器呈现的东西就会是这样：\n",
    "```html\n",
    "<h1>map[James:32 Bond:43]</h1>\n",
    "<h1>James 32</h1>\n",
    "<h1>Bond 43</h1>\n",
    "```"
   ]
  },
  {
   "cell_type": "code",
   "execution_count": null,
   "metadata": {},
   "outputs": [],
   "source": []
  },
  {
   "cell_type": "markdown",
   "metadata": {},
   "source": [
    "# Template 里的其他模版\n",
    "```html\n",
    "{{ define \"...\" }}\n",
    "{{ template \"...\" }}\n",
    "{{ block ... }} {{ end }}\n",
    "{{ if <var> }} {{ else if <var> }} {{ else }} {{ end }}\n",
    "{{ with <var> }} {{ end }}\n",
    "{{ range <var> }} {{ else }} {{ end }}\n",
    "```"
   ]
  },
  {
   "cell_type": "code",
   "execution_count": null,
   "metadata": {},
   "outputs": [],
   "source": []
  },
  {
   "cell_type": "markdown",
   "metadata": {},
   "source": [
    "# Template 里调用参数的其他方法\n",
    "```go\n",
    "Params: Params {\n",
    "    Author: Author {\n",
    "        First: \"John\",\n",
    "        Last: \"Doe\",\n",
    "    },\n",
    "}\n",
    "\n",
    "\"Params\": map[string]interface{} {\n",
    "    \"Author\": map[string]interface{} {\n",
    "        First: \"John\",\n",
    "        Last: \"Doe\",\n",
    "    },\n",
    "}\n",
    "```\n",
    "\n",
    "```html\n",
    "{{ . }}\n",
    "{{ .Params.Author.Last }}\n",
    "{{ index . \"Params\" \"Author\" \"Last\" }} 限定 map 使用\n",
    "```"
   ]
  },
  {
   "cell_type": "markdown",
   "metadata": {},
   "source": [
    "如果 Template 中有调用参数的位置，在引用这个 Template 的时候就需要把他一起传入，不然会出错\n",
    "```html\n",
    "{{ define \"footer\" }}\n",
    "    {{ .Params.Author.Last }}\n",
    "{{ end }}\n",
    "\n",
    "{{ template \"footer\" }}    报错\n",
    "{{ template \"footer\" . }}  正确\n",
    "```\n",
    "\n",
    "看从哪里传，就从哪里解析\n",
    "```html\n",
    "{{ define \"footer\" }}\n",
    "    {{ .Author.Last }}\n",
    "{{ end }}\n",
    "\n",
    "{{ template \"footer\" }}          报错\n",
    "{{ template \"footer\" .Params }}  正确\n",
    "```"
   ]
  },
  {
   "cell_type": "markdown",
   "metadata": {},
   "source": [
    "变量传入 Template 之后还可以重新定义，然后重新赋值\n",
    "```html\n",
    "{{ define \"footer\" }}\n",
    "    {{ $first := .Author.Last }}\n",
    "    <p>Hello {{ $first }}</p>\n",
    "    {{ $first := \"Jack\" }}\n",
    "    <p>Changed into {{ $first }}</p>\n",
    "{{ end }}\n",
    "```"
   ]
  },
  {
   "cell_type": "markdown",
   "metadata": {},
   "source": [
    "# Template 的判断式 `if` `else`\n",
    "根据不同的条件呈现不同的内容，在 `go` 语法里，只要是以下四种情况都会被默认成是 `false`：\n",
    "1. `false`\n",
    "2. `0`\n",
    "3. `nil`\n",
    "4. 空的 数组/切片/map/字符串\n",
    "\n",
    "一个不好的示范：\n",
    "```html\n",
    "{{ if eq (len .Users) 0 }}\n",
    "<p>There are {{ len .Users }} users</p>\n",
    "{{ end }}\n",
    "```\n",
    "\n",
    "其实空的数组就已经是 `false` 了，因此可以写成\n",
    "```html\n",
    "{{ if .Users }}\n",
    "<p>There are {{ len .Users }} users</p>\n",
    "{{ end }}\n",
    "```\n",
    "\n",
    "条件还可以多个组合在一起\n",
    "\n",
    "```html\n",
    "{{ if and <cond> <cond> ... }} {{ end }}\n",
    "```"
   ]
  },
  {
   "cell_type": "code",
   "execution_count": null,
   "metadata": {},
   "outputs": [],
   "source": []
  },
  {
   "cell_type": "markdown",
   "metadata": {},
   "source": [
    "```html\n",
    "{{ /*\n",
    "    eq ==\n",
    "    ne !=\n",
    "    lt <\n",
    "    le <=\n",
    "    gt >\n",
    "    le >=\n",
    "*/ }}\n",
    "```"
   ]
  },
  {
   "cell_type": "code",
   "execution_count": null,
   "metadata": {},
   "outputs": [],
   "source": []
  },
  {
   "cell_type": "markdown",
   "metadata": {},
   "source": [
    "# Template 的 `with` 用法\n",
    "Template 中 `.` 与 `$` 它们两个符号都是指当前传入 template 的变量，区别在于 `.` 会随着其他条件设置而改变，例如 `{{ if }}`, `{{ with }}`, `{{ range }}`，而 `$` 则永远指向一开始传入的那个变量。\n",
    "\n",
    "```html\n",
    "{{ with .Params.Author.First }}\n",
    "    <p>First: {{ . }}</p>\n",
    "    <p>Last: {{ $.Params.Author.Last }}</p>\n",
    "{{ end }}\n",
    "\n",
    "<!-- 上下两种写法皆可，下面的写法更精确 -->\n",
    "\n",
    "{{ with $first := .Params.Author.First }}\n",
    "    <p>First: {{ . }}</p>\n",
    "    <p>First: {{ $first. }}</p>\n",
    "    <p>Last: {{ $.Params.Author.Last }}</p>\n",
    "{{ end }}\n",
    "```"
   ]
  },
  {
   "cell_type": "markdown",
   "metadata": {},
   "source": [
    "# Template 的 `for` 循环\n",
    "```go\n",
    "template Variables:\n",
    "{\n",
    "    \"users\": [\n",
    "        {\"First\": \"Joe\", \"Last\": \"Doe\"},\n",
    "        {\"First\": \"Jane\", \"Last\": \"Doe\"},\n",
    "    ],\n",
    "    \"Today\": \"Thursday\"\n",
    "}\n",
    "```\n",
    "\n",
    "```html\n",
    "{{ range .Users }}\n",
    "    <p>First: {{ . }}</p>\n",
    "    <p>First: {{ .First }}</p>\n",
    "    <p>Last: {{ $.Today }}</p>\n",
    "{{ end }}\n",
    "```"
   ]
  },
  {
   "cell_type": "code",
   "execution_count": null,
   "metadata": {},
   "outputs": [],
   "source": []
  },
  {
   "cell_type": "markdown",
   "metadata": {},
   "source": [
    "# Template 里使用定义的函数\n",
    "除了上面介绍的变量之外，还可以直接把一个函数传到前端来调用，做法直接用 map 即可\n",
    "```go\n",
    "t, _ := template.new(\"home.html\").Funcs(map[string]interface{} {\n",
    "    \"greet\": func(name string) string { return \"hello\" + name },\n",
    "}).Parse(`{{ greet \"bob\" }}`)\n",
    "```\n",
    "\n",
    "在代码后台定义好，前段直接呼叫名字，后面接着传入的参数即可，除了直接定义这样之外，函数本身也可以定义在一个结构体里面，然后传入结构体，通过类似索引变量的方式在前端使用函数。\n",
    "\n",
    "```go\n",
    "type User struct { greeting string }\n",
    "\n",
    "func (u User) Greet(name string) string {\n",
    "    return u.greeting + \" \" + name\n",
    "}\n",
    "\n",
    "t, _ := template.New(\"t\").Parse(`{{ .User.Greet \"bob\" }}`)\n",
    "t.Execute(w, map[string]interface{} {\n",
    "    \"User\": User{greeting: \"hello\"},\n",
    "})\n",
    "```"
   ]
  },
  {
   "cell_type": "markdown",
   "metadata": {},
   "source": [
    "不过 Template 里面如果是想直接获得函数回传得到的结果，而不是调用函数，那就需要这么写：\n",
    "```go\n",
    "t, _ := template.New(\"t\").Parse(`{{ call .User.Greet \"bob\" }}`)\n",
    "t.Execute(w, map[string]interface{} {\n",
    "    \"User\": User{greeting: \"hello\" + name},\n",
    "})\n",
    "```"
   ]
  },
  {
   "cell_type": "markdown",
   "metadata": {},
   "source": [
    "函数的调用还可以是一连串的，上一个函数的输出就是这个函数的输入：\n",
    "\n",
    "```go\n",
    "t, _ := template.New(\"t\").Funcs(map[string]interface{} {\n",
    "    \"upper\" strings.ToUpper,\n",
    "    \"greet\": func(greeting, name string) string {\n",
    "        return greeting + \" \" + name\n",
    "    },\n",
    "}).Parse(`{{ upper . | greet \"hello\" }}`)\n",
    "t.Execute(w, \"bob\")  // out: \"hello bob\"\n",
    "```"
   ]
  },
  {
   "cell_type": "code",
   "execution_count": null,
   "metadata": {},
   "outputs": [],
   "source": []
  }
 ],
 "metadata": {
  "kernelspec": {
   "display_name": "Go",
   "language": "go",
   "name": "gophernotes"
  },
  "language_info": {
   "codemirror_mode": "",
   "file_extension": ".go",
   "mimetype": "",
   "name": "go",
   "nbconvert_exporter": "",
   "pygments_lexer": "",
   "version": "go1.17.8"
  }
 },
 "nbformat": 4,
 "nbformat_minor": 4
}
