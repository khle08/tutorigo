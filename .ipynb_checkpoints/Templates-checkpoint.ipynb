{
 "cells": [
  {
   "cell_type": "markdown",
   "metadata": {},
   "source": [
    "```go\n",
    "import (\n",
    "    \"net/http\"\n",
    "    \"html/template\"\n",
    ")\n",
    "```"
   ]
  },
  {
   "cell_type": "code",
   "execution_count": null,
   "metadata": {},
   "outputs": [],
   "source": []
  },
  {
   "cell_type": "markdown",
   "metadata": {},
   "source": [
    "# Template 组成\n",
    "\n",
    "```go\n",
    "var tmp *template.Template\n",
    "tmp = template.Must(template.ParseGlob(\"templates/*.html\"))\n",
    "```\n",
    "\n",
    "当一个 Template 通过上述方式创建的时候，其实它是在变量里面创建了一个 `map` 物件。\n",
    "\n",
    "```go\n",
    "map[string]*Template {\n",
    "    \"home.html\": &Template {\n",
    "        name: \"home.html\",\n",
    "        Tree: /* template body */,\n",
    "    },\n",
    "    \"about.html\": &Template {\n",
    "        name: \"about.html\",\n",
    "        Tree: /* template body */,\n",
    "    },\n",
    "    \"contact.html\": &Template {\n",
    "        name: \"contact.html\",\n",
    "        Tree: /* template body */,\n",
    "    },\n",
    "}\n",
    "```"
   ]
  },
  {
   "cell_type": "code",
   "execution_count": null,
   "metadata": {},
   "outputs": [],
   "source": []
  },
  {
   "cell_type": "markdown",
   "metadata": {},
   "source": [
    "主程序用来串联网址和函数\n",
    "\n",
    "```go\n",
    "func main() {\n",
    "    http.HandleFunc(\"/\", home)\n",
    "    http.HandleFunc(\"/about\", about)\n",
    "    http.HandleFunc(\"/contact\", contact)\n",
    "    http.ListenAndServe(\":8000\", nil)   \n",
    "}\n",
    "```"
   ]
  },
  {
   "cell_type": "code",
   "execution_count": null,
   "metadata": {},
   "outputs": [],
   "source": []
  },
  {
   "cell_type": "markdown",
   "metadata": {},
   "source": [
    "视图函数的功能\n",
    "\n",
    "```go\n",
    "func home(w http.ResponseWriter, r *http.Request) {\n",
    "    tmp.ExecuteTemplate(w, \"home.html\", \"variable\")\n",
    "}\n",
    "```"
   ]
  },
  {
   "cell_type": "markdown",
   "metadata": {},
   "source": [
    "在模版里面的 `html` 写起来得像这样：\n",
    "```html\n",
    "<h1>{{ . }}</h1>\n",
    "```\n",
    "\n",
    "通过最后一个变量传入之后，在浏览器呈现的东西就会是这样：\n",
    "```html\n",
    "<h1>variable</h1>\n",
    "```"
   ]
  },
  {
   "cell_type": "code",
   "execution_count": null,
   "metadata": {},
   "outputs": [],
   "source": []
  },
  {
   "cell_type": "markdown",
   "metadata": {},
   "source": [
    "```go\n",
    "type person struct {\n",
    "    First string\n",
    "    Last string\n",
    "}\n",
    "\n",
    "func about(w http.ResponseWriter, r *http.Request) {\n",
    "    p := person{\"James\", \"bond\"}\n",
    "    tmp.ExecuteTemplate(w, \"about.html\", p)\n",
    "}\n",
    "```"
   ]
  },
  {
   "cell_type": "markdown",
   "metadata": {},
   "source": [
    "在模版里面的 `html` 写起来得像这样：\n",
    "```html\n",
    "<h1>{{ . }}</h1>\n",
    "<h1>{{ .First }}</h1>\n",
    "<h1>{{ .Last }}</h1>\n",
    "```\n",
    "\n",
    "通过最后一个变量传入之后，在浏览器呈现的东西就会是这样：\n",
    "```html\n",
    "<h1>{James Bond}</h1>\n",
    "<h1>James</h1>\n",
    "<h1>Bond</h1>\n",
    "```"
   ]
  },
  {
   "cell_type": "code",
   "execution_count": null,
   "metadata": {},
   "outputs": [],
   "source": []
  },
  {
   "cell_type": "markdown",
   "metadata": {},
   "source": [
    "```go\n",
    "func contact(w http.ResponseWriter, r *http.Request) {\n",
    "    arr := []int{3, 5, 7, 9, 17, 23}\n",
    "    tmp.ExecuteTemplate(w, \"contact.html\", arr)\n",
    "}\n",
    "```"
   ]
  },
  {
   "cell_type": "markdown",
   "metadata": {},
   "source": [
    "在模版里面的 `html` 写起来得像这样：\n",
    "```html\n",
    "<h1>{{ . }}</h1>\n",
    "<h1>{{ range . }}</h1>\n",
    "<h1>{{ . }}</h1>\n",
    "<h1>{{ end }}</h1>\n",
    "```\n",
    "\n",
    "通过最后一个变量传入之后，在浏览器呈现的东西就会是这样：\n",
    "```html\n",
    "<h1>[3, 5, 7, 9, 17, 23]</h1>\n",
    "<h1>3</h1>\n",
    "<h1>5</h1>\n",
    "<h1>7</h1>\n",
    "<h1>9</h1>\n",
    "<h1>17</h1>\n",
    "<h1>23</h1>\n",
    "```"
   ]
  },
  {
   "cell_type": "markdown",
   "metadata": {},
   "source": [
    "在模版里面的 `html` 写起来得像这样：\n",
    "```html\n",
    "<h1>{{ . }}</h1>\n",
    "<h1>{{ range $key, $index := . }}</h1>\n",
    "<h1>{{ . }} {{ $key }} {{ $index }}</h1>\n",
    "<h1>{{ end }}</h1>\n",
    "```\n",
    "\n",
    "通过最后一个变量传入之后，在浏览器呈现的东西就会是这样：\n",
    "```html\n",
    "<h1>[3, 5, 7, 9, 17, 23]</h1>\n",
    "<h1>3 0 3</h1>\n",
    "<h1>5 1 5</h1>\n",
    "<h1>7 2 7</h1>\n",
    "<h1>9 3 9</h1>\n",
    "<h1>17 4 17</h1>\n",
    "<h1>23 5 23</h1>\n",
    "```"
   ]
  },
  {
   "cell_type": "code",
   "execution_count": null,
   "metadata": {},
   "outputs": [],
   "source": []
  },
  {
   "cell_type": "markdown",
   "metadata": {},
   "source": [
    "```go\n",
    "func home(w http.ResponseWriter, r *http.Request) {\n",
    "    mp := map[string]int{\n",
    "        \"James\": 32,\n",
    "        \"Bond\": 43,\n",
    "    }\n",
    "    tmp.ExecuteTemplate(w, \"home.html\", mp)\n",
    "}\n",
    "```"
   ]
  },
  {
   "cell_type": "markdown",
   "metadata": {},
   "source": [
    "在模版里面的 `html` 写起来得像这样：\n",
    "```html\n",
    "<h1>{{ . }}</h1>\n",
    "<h1>{{ range . }}</h1>\n",
    "<h1>{{ . }}</h1>\n",
    "<h1>{{ end }}</h1>\n",
    "```\n",
    "\n",
    "通过最后一个变量传入之后，在浏览器呈现的东西就会是这样：\n",
    "```html\n",
    "<h1>map[James:32 Bond:43]</h1>\n",
    "<h1>32</h1>\n",
    "<h1>43</h1>\n",
    "```"
   ]
  },
  {
   "cell_type": "markdown",
   "metadata": {},
   "source": [
    "在模版里面的 `html` 写起来得像这样：\n",
    "```html\n",
    "<h1>{{ . }}</h1>\n",
    "<h1>{{ range $name, $age := . }}</h1>\n",
    "<h1>{{ $name }}, {{ $age }}</h1>\n",
    "<h1>{{ end }}</h1>\n",
    "```\n",
    "\n",
    "通过最后一个变量传入之后，在浏览器呈现的东西就会是这样：\n",
    "```html\n",
    "<h1>map[James:32 Bond:43]</h1>\n",
    "<h1>James 32</h1>\n",
    "<h1>Bond 43</h1>\n",
    "```"
   ]
  },
  {
   "cell_type": "code",
   "execution_count": null,
   "metadata": {},
   "outputs": [],
   "source": []
  },
  {
   "cell_type": "code",
   "execution_count": null,
   "metadata": {},
   "outputs": [],
   "source": []
  },
  {
   "cell_type": "code",
   "execution_count": null,
   "metadata": {},
   "outputs": [],
   "source": []
  },
  {
   "cell_type": "code",
   "execution_count": null,
   "metadata": {},
   "outputs": [],
   "source": []
  }
 ],
 "metadata": {
  "kernelspec": {
   "display_name": "Go",
   "language": "go",
   "name": "gophernotes"
  },
  "language_info": {
   "codemirror_mode": "",
   "file_extension": ".go",
   "mimetype": "",
   "name": "go",
   "nbconvert_exporter": "",
   "pygments_lexer": "",
   "version": "go1.17.8"
  }
 },
 "nbformat": 4,
 "nbformat_minor": 4
}
