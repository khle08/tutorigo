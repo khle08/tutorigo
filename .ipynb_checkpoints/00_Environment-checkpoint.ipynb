{
 "cells": [
  {
   "cell_type": "markdown",
   "metadata": {},
   "source": [
    "# 简介\n",
    "\n",
    "Go 语言是谷歌开源的一种 `静态` 且 `编译`型语言，语法清晰明确，容易学习和入门，并且有优秀的大饼发性能和强大的标准库，可以大规模构建快速可靠和高效的软件，不过缺点是他使用了 `垃圾回收器 (GC)` 使其在速度上属于 java/kotlin 的第二梯队，无法和 C++/Rust 语言媲美极致的性能。 Go 设计的初衷是在高性能网络，多核处理，和大型代码库时代提高编程效率，设计者想解决对 Google 使用的其他语言的批评，但保留其优点， logo 是一种吉祥物 Gopher 囊鼠。\n",
    "\n",
    "Go 已经是专业开发者 10 大主流语言之一，其中中国更是最喜欢 Go 语言的国家，基本上大型的互联网公司都或多或少地使用 Go 语言搭建自己的服务系统。"
   ]
  },
  {
   "cell_type": "markdown",
   "metadata": {},
   "source": [
    "### 内存回收（GC）\n",
    "1. 内存自动回收，不需要开发人员管理内存\n",
    "2. 开发人员专注项目，降低心智负担\n",
    "3. 只需要 new 分配内存，不需要释放\n",
    "\n",
    "### 内存分配\n",
    "1. 现分配一块大内存区域\n",
    "2. 大内存被切分成各个大小登记的块，放入不同的空闲 list 中\n",
    "3. 对象分配空间时从空闲 list 中取出大小合适的内存快\n",
    "4. 内存回收时，会把不用的内存重放回空闲 list\n",
    "5. 空闲内存会按照一定策略合并，以减少碎片\n",
    "\n",
    "### 编译\n",
    "编译 go 语言有两种方案：\n",
    "1. 建立在 GCC 基础上的 gccgo\n",
    "2. 针对 64 和 32 位计算机的一套编译器\n",
    "\n",
    "### 异常处理\n",
    "go 语言给出三个重要的途径：\n",
    "1. `defer` 函数结束后执行，先进后出\n",
    "2. `panic` 程序出现无法修复的错误，但会让 `defer` 执行完\n",
    "3. `recover` 会修复错误，不至于程序终止，当不确定函数不会出错时，使用 `defer`+`recover`"
   ]
  },
  {
   "cell_type": "markdown",
   "metadata": {},
   "source": [
    "# Go 能做什么\n",
    "服务器编程，以前你如果使用 C 或者 C++ 做的那些事情，用 go 取代很适合，例如处理日志，数据打包，虚拟机处理，文件系统等。\n",
    "+ 分布式系统，数据库代理器，中间件等\n",
    "\n",
    "网络编程目前应用最广，包括 web，API，下载应用；数据库操作方面，tidb，influxdb，cockroachdb等。开发云平台，目前国外很多云平台在采用 go 开发。"
   ]
  },
  {
   "cell_type": "code",
   "execution_count": 1,
   "metadata": {},
   "outputs": [],
   "source": [
    "import \"fmt\""
   ]
  },
  {
   "cell_type": "markdown",
   "metadata": {},
   "source": [
    "# 安装\n",
    "到 Go 的官网[here](https://go.dev/) 下载安装档，安装之后环境变量会自动配置完成，如果能通过下面代码查看版本：\n",
    "\n",
    "```bash\n",
    "go version\n",
    "```\n",
    "\n",
    "则表示安装完成且成功。\n",
    "\n",
    "### 设置 GOPATH\n",
    "一般来说在安装成功后，这个路径就已经被自动设置成 `$HOME/go`，这是一个管理源代码的地方，里面分成了三个文件夹：\n",
    "+ bin\n",
    "+ pkg\n",
    "+ src\n",
    "\n",
    "其中 `src` 是用来统一放置我们的写的代码的地方，而 `bin` 则是编译后生成二进制文件的地方，`pkg` 是一个在预编译的过程中放置文件的地方，如果编译过程遇到什么问题，可以把这部分的文件删除然后重新编译。\n",
    "\n",
    "```\n",
    "├─ bin\n",
    "├─ pkg\n",
    "└─ src\n",
    "    └─ source\n",
    "        └─ packageName\n",
    "            └─ code1.go\n",
    "            └─ code1.go\n",
    "```"
   ]
  },
  {
   "cell_type": "markdown",
   "metadata": {},
   "source": [
    "如果安装时没有设置成功，设置方法如果是 windows 电脑，直接进到环境变量添加路径即可，如果是 mac/linux 的话，则使用下面的指令：\n",
    "\n",
    "```bash\n",
    "sudo nano ~/.bash_profile\n",
    "```\n",
    "\n",
    "然后把下面两行代码添加后保存：\n",
    "\n",
    "```\n",
    "GOPATH=\"your/path/for/go\"\n",
    "export GOPATH\n",
    "```"
   ]
  },
  {
   "cell_type": "markdown",
   "metadata": {},
   "source": [
    "# 执行原理与命令\n",
    "Go 的代码可以主要分成三类：\n",
    "1. **命令源码文件**\n",
    "\n",
    "声明自己属于 main 代码包，包含无参数声明和结果声明的 main 函数。命令源码文件被安装以后，`GOPATH` 如果只有一个工作区，那么相应的可执行文件会被存放当前工作区的 bin 文件夹下，如果有多个工作区，则会安装到 `GOBIN` 指向的目录下。命令源码文件是 Go 程序的入口，因此同一个项目下至多只能放一个源码文件，不然在 `go build` 的时候会报错。\n",
    "\n",
    "2. **库源码文件**\n",
    "\n",
    "是一个不具备命令源码文件特征的另一种源码文件，存在于某个代码包的普通源码文件，库源码文件被安装后，相应的归档文件（`.a`库）会被存放到当前工作区的 pkg 平台相关目录下。\n",
    "\n",
    "3. **测试源码文件**\n",
    "\n",
    "名称统一以 `_test.go` 为后缀的代码文件，并且必须包含 test 或者 benchmark 名称为前缀的函数，名称以 Test 为前缀的函数只能接受 `*testing.T` 参数，属于功能测试函数。"
   ]
  },
  {
   "cell_type": "code",
   "execution_count": null,
   "metadata": {},
   "outputs": [],
   "source": [
    "func TestXXX(t *testing.T) {\n",
    "    // Test something here ...\n",
    "}"
   ]
  },
  {
   "cell_type": "markdown",
   "metadata": {},
   "source": [
    "名称以 Benchmark 为前缀的函数只能接受 `*testing.B` 参数，这种测试函数是性能测试函数。"
   ]
  },
  {
   "cell_type": "code",
   "execution_count": null,
   "metadata": {},
   "outputs": [],
   "source": [
    "func BenchmarkXXX(t *testing.B) {\n",
    "    // Test something here ...\n",
    "}"
   ]
  },
  {
   "cell_type": "markdown",
   "metadata": {},
   "source": [
    "### 总结\n",
    "命令源码文件是可以单独运行的，可以使用 `go run` 命令直接运行，也可以通过 `go build` 和 `go install` 获得并管理相应的可执行文件，所以命令源码文件是可以在机器的任何目录下运行的。"
   ]
  },
  {
   "cell_type": "markdown",
   "metadata": {},
   "source": [
    "# Go 的常用命令\n",
    "可以通过 `go help` 来查看一共有多少个可用的命令，其中和编译相关的有：\n",
    "+ `go build`\n",
    "+ `go get`\n",
    "+ `go install`\n",
    "+ `go run`"
   ]
  },
  {
   "cell_type": "markdown",
   "metadata": {},
   "source": [
    "### go run\n",
    "这个指令专门用来运行命令源码文件，它还可以接受一个命令源码文件外加若干个库源码文件作为文件参数，且不能接受测试源码文件，如果做了不能做的事情，那这个指令就会打印错误信息并直接退出。"
   ]
  },
  {
   "cell_type": "markdown",
   "metadata": {},
   "source": [
    "### go build\n",
    "这个命令主要是用于测试编译，在包的编译过程中，若有必要，会同时编译与之相关联的包。\n",
    "1. 如果是普通包，当执行 `go build` 之后，不会产生任何文件\n",
    "2. 如果是 main 包，会在当前目录下生成一个可执行文件，如果需要在 `$GOPATH/bin` 目录下生成 exe 文件，则需要执行 `go install` 或者 `go build -o path/file.exe` 指定位置\n",
    "3. 如果某个文件夹下有多个文件，而你只想编译其中某一个文件，可以在 `go build` 之后加上文件名，例如：`go build name.go`，如果没有加文件名，则默认编译当前目录下的所有 go 文件。\n",
    "4. 也可以指定编译输出的文件名，使用 `go build -o name`\n",
    "5. 指令会自动忽略目录下以 `_` & `.` 开头的代码\n",
    "6. 如果源代码针对不同的操作系统处理，可以根据不同的操作系统后缀来命名文件\n",
    "\n",
    "`go build` 用于编译我们指定的源码文件或代码包，以及他们的依赖包，但注意如果用来编译非命令源码文件，即库源码文件，`go build` 执行完是不会产生任何结果的，只是检查库文件的有效性。"
   ]
  },
  {
   "cell_type": "markdown",
   "metadata": {},
   "source": [
    "### go install\n",
    "用来编译并安装代码包，或者源文件的指令，执行过程中分为两个步骤：\n",
    "1. 生成结果文件（可执行文件 & `.a` 包）\n",
    "2. 把编译好的结果移到 `$GOPATH/pkg` 或 `$GOPATH/bin`\n",
    "\n",
    "可执行文件：一般是带有 main 函数的代码文件，可以直接运行。\n",
    "`.a`应用包：不包含 main 函数的代码文件，只能被调用。\n",
    "\n",
    "当指令的代码包其依赖包还没有被编译和安装时，命令会先去处理依赖包，传给 `go install` 命令的代码包参数应该以导入路径的形式提供，最后将编译后的结果文件安装到指定目录下。"
   ]
  },
  {
   "cell_type": "markdown",
   "metadata": {},
   "source": [
    "### go get\n",
    "用于下载并安装代码包，下载到 `GOPATH` 中的第一个工作区的 src 目录中，并安装。如果在下载指令里加入 `-d` 标记，则只会下载而不会安装，如果有一些需要经过特殊处理的代码包，可以这么做。\n",
    "\n",
    "如果一个本来下载过，但现在需要更新的代码库需要更新，可以使用 `-u` 标记来完成，如果不加的话什么都不会发生，原始的版本会被保留，下载的指令会被忽略。"
   ]
  },
  {
   "cell_type": "markdown",
   "metadata": {},
   "source": [
    "---\n",
    "\n",
    "# Go 依赖模块管理\n",
    "1. `go mod init projName` 初始化项目目录\n",
    "2. `go build` 编译项目依赖库安装\n",
    "3. `go list -m all` 查看当前项目依赖库\n",
    "4. `go get github...` 追加更新项目的依赖库\n",
    "5. `go mod tidy` 删除不必要的依赖库\n",
    "\n",
    "官方给定的一个模块管理样板：[golang-standards/project-layout](https://github.com/golang-standards/project-layout)"
   ]
  },
  {
   "cell_type": "markdown",
   "metadata": {},
   "source": [
    "# 执行代码\n",
    "如果现在有一个项目使用 go 语言编写，并起了一个名字 `hello`，并且这个目录下没有其他东西了：\n",
    "\n",
    "```bash\n",
    "packageName\n",
    "│   hello.go\n",
    "```\n",
    "\n",
    "里面的代码如下："
   ]
  },
  {
   "cell_type": "code",
   "execution_count": 1,
   "metadata": {},
   "outputs": [],
   "source": [
    "// hello.go\n",
    "\n",
    "package main\n",
    "\n",
    "import \"fmt\"\n",
    "\n",
    "func main() {\n",
    "    fmt.Println(\"hello world\")\n",
    "}"
   ]
  },
  {
   "cell_type": "markdown",
   "metadata": {},
   "source": [
    "运行下面的代码有两种方式：\n",
    "1. `go build hello.go` --> ./hello\n",
    "2. `go run hello.go`\n",
    "\n",
    "第一种方式会生成一个可执行文件，通过运行可执行文件来执行代码，但这样比较麻烦，因此可以直接用第二种方式，不生成执行文件，也能运行代码。"
   ]
  },
  {
   "cell_type": "markdown",
   "metadata": {},
   "source": [
    "## 1. mod 管理工具\n",
    "使用 `mod` 来管理模块里面的依赖，使用方式如下：\n",
    "```bash\n",
    "go mod init packageName\n",
    "```\n",
    "\n",
    "这时候项目文件夹下就会多一个东西：\n",
    "```bash\n",
    "packageName\n",
    "│   hello.go\n",
    "│   go.mod    <-- new\n",
    "```\n",
    "\n",
    "这个文件用来告诉编译器我们的项目名称，和使用的依赖与其对应的版本。"
   ]
  },
  {
   "cell_type": "markdown",
   "metadata": {},
   "source": [
    "## 2. 函数拆分\n",
    "如果代码功能复杂了想要拆分成多个不同的代码文件，例如：\n",
    "```bash\n",
    "packageName\n",
    "│   others.go\n",
    "│   main.go    <-- new\n",
    "│   go.mod\n",
    "```\n",
    "\n",
    "对应的代码内容如下："
   ]
  },
  {
   "cell_type": "code",
   "execution_count": 2,
   "metadata": {},
   "outputs": [],
   "source": [
    "// others.go\n",
    "\n",
    "package main\n",
    "\n",
    "import \"fmt\"\n",
    "\n",
    "func Print() {\n",
    "    fmt.Println(\"hello world\")\n",
    "}"
   ]
  },
  {
   "cell_type": "code",
   "execution_count": 3,
   "metadata": {},
   "outputs": [],
   "source": [
    "// main.go\n",
    "\n",
    "package main\n",
    "\n",
    "func main() {\n",
    "    Print()\n",
    "}"
   ]
  },
  {
   "cell_type": "markdown",
   "metadata": {},
   "source": [
    "这时候运行 main 函数的方法是直接运行项目文件夹即可：\n",
    "\n",
    "```bash\n",
    "go run /Users/kcl/Documents/Go_Projects/tutorigo\n",
    "```\n",
    "\n",
    "Go 语言的编译器能够直接理解他们的依赖关系，运行代码内容。"
   ]
  },
  {
   "cell_type": "markdown",
   "metadata": {},
   "source": [
    "## 3. 跨包调用\n",
    "这个 `hello.go` 里面的代码还可以被放到项目里别的文件夹下管理，例如：\n",
    "```bash\n",
    "tutorigo\n",
    "│   main.go\n",
    "│   go.mod\n",
    "│\n",
    "└─── packageName\n",
    "│   │   hello.go    <-- new\n",
    "```\n",
    "\n",
    "代码内容如下："
   ]
  },
  {
   "cell_type": "code",
   "execution_count": null,
   "metadata": {},
   "outputs": [],
   "source": [
    "// packageName/hello.go\n",
    "\n",
    "package other\n",
    "\n",
    "import \"fmt\"\n",
    "\n",
    "func Print() {  // 注意只有首字母大写的函数才能被跨包调用\n",
    "    fmt.Println(\"hello world\")\n",
    "}"
   ]
  },
  {
   "cell_type": "markdown",
   "metadata": {},
   "source": [
    "在 `main.go` 里面调用函数的过程也得微调一下，操作如下："
   ]
  },
  {
   "cell_type": "code",
   "execution_count": null,
   "metadata": {},
   "outputs": [],
   "source": [
    "// main.go\n",
    "\n",
    "package main\n",
    "\n",
    "import \"tutorigo/packageName\"\n",
    "\n",
    "func main() {\n",
    "    packageName.Print()\n",
    "}"
   ]
  },
  {
   "cell_type": "markdown",
   "metadata": {},
   "source": [
    "最后一样通过 `go run main.go` 就可以完成代码的运行。"
   ]
  },
  {
   "cell_type": "markdown",
   "metadata": {},
   "source": [
    "# 3rd Party Package Installation\n",
    "To install 3rd party package for `golang`, use the following cmd:\n",
    "```bash\n",
    "go get -u github.com/gorilla/mux\n",
    "```\n",
    "\n",
    "The package can be fond in `GOPATH/src/golang/...`, which is different from the installation directory of the main body of `golang`. The way to get `GOPATH` is also simple. Use:\n",
    "```bash\n",
    "go env\n",
    "```\n",
    "\n",
    "and all the setting directories will be listed."
   ]
  },
  {
   "cell_type": "markdown",
   "metadata": {},
   "source": [
    "# Proxy Speed Up\n",
    "```bash\n",
    "go env -w GO111MODULE=on\n",
    "go env -w GOPROXY=https://goproxy.cn,direct\n",
    "```"
   ]
  }
 ],
 "metadata": {
  "kernelspec": {
   "display_name": "Go",
   "language": "go",
   "name": "gophernotes"
  },
  "language_info": {
   "codemirror_mode": "",
   "file_extension": ".go",
   "mimetype": "",
   "name": "go",
   "nbconvert_exporter": "",
   "pygments_lexer": "",
   "version": "go1.17.8"
  }
 },
 "nbformat": 4,
 "nbformat_minor": 4
}
