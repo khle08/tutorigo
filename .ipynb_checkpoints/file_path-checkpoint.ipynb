{
 "cells": [
  {
   "cell_type": "code",
   "execution_count": 1,
   "metadata": {},
   "outputs": [],
   "source": [
    "import \"os\"\n",
    "import \"fmt\"\n",
    "import \"time\"\n",
    "import \"strings\"\n",
    "import pth \"path/filepath\""
   ]
  },
  {
   "cell_type": "code",
   "execution_count": 3,
   "metadata": {},
   "outputs": [
    {
     "data": {
      "text/plain": [
       "/Users/kcl/Documents/Go_Projects/tutorigo<nil>"
      ]
     },
     "execution_count": 3,
     "metadata": {},
     "output_type": "execute_result"
    }
   ],
   "source": [
    "os.Getwd()"
   ]
  },
  {
   "cell_type": "code",
   "execution_count": null,
   "metadata": {},
   "outputs": [],
   "source": []
  },
  {
   "cell_type": "code",
   "execution_count": 15,
   "metadata": {},
   "outputs": [],
   "source": [
    "type User struct {\n",
    "    Id          int       `json:\"UserId\"`\n",
    "    Name        string    `json:\"UserName\"`\n",
    "    Password    string    `json:\"UserPassword\"`\n",
    "    Email       string    `json:\"UserEmail\"`\n",
    "    Phone       string    `json:\"UserPhone\"`\n",
    "    CreateTime  time.Time `json:\"CreateTime\"`\n",
    "    LastLogin   time.Time `json:\"LastLogin\"`\n",
    "    IsFrozen    bool      `json:\"is_frozen\"`\n",
    "    IsActive    bool      `json:\"is_active\"`\n",
    "    IsStaff     bool      `json:\"is_staff\"`\n",
    "    IsSuperuser bool      `json:\"is_superuser\"`\n",
    "}\n",
    "\n",
    "func (u *User) TableName() string {\n",
    "    return \"user\"\n",
    "}\n",
    "\n",
    "func (u *User) ToString() string {\n",
    "    return fmt.Sprintf(\n",
    "        \"[%d] name: %s - email: %s | Frozen: %t, Active: %t, Staff: %t, Super: %t\",\n",
    "        u.Id, u.Name, u.Email, u.IsFrozen, u.IsActive, u.IsStaff, u.IsSuperuser)\n",
    "}"
   ]
  },
  {
   "cell_type": "code",
   "execution_count": 16,
   "metadata": {},
   "outputs": [],
   "source": [
    "u1 := User{Name: \"jack\", Email: \"jack@mail.com\"}"
   ]
  },
  {
   "cell_type": "code",
   "execution_count": 22,
   "metadata": {},
   "outputs": [],
   "source": [
    "u1.CreateTime = time.Date(2022, 10, 12, 14, 30, 45, 100, time.Local)"
   ]
  },
  {
   "cell_type": "code",
   "execution_count": 23,
   "metadata": {},
   "outputs": [
    {
     "data": {
      "text/plain": [
       "2022-10-12 14:30:45.0000001 +0800 CST"
      ]
     },
     "execution_count": 23,
     "metadata": {},
     "output_type": "execute_result"
    }
   ],
   "source": [
    "u1.CreateTime"
   ]
  },
  {
   "cell_type": "code",
   "execution_count": null,
   "metadata": {},
   "outputs": [],
   "source": []
  },
  {
   "cell_type": "code",
   "execution_count": null,
   "metadata": {},
   "outputs": [],
   "source": []
  },
  {
   "cell_type": "code",
   "execution_count": 28,
   "metadata": {},
   "outputs": [],
   "source": [
    "import \"os\"\n",
    "import \"fmt\"\n",
    "import \"path/filepath\""
   ]
  },
  {
   "cell_type": "code",
   "execution_count": 24,
   "metadata": {},
   "outputs": [],
   "source": [
    "f, err := os.Open(\"/Users/kcl/Documents/TBSI/AI-JWtech/ADAS/cai_info\")"
   ]
  },
  {
   "cell_type": "code",
   "execution_count": 25,
   "metadata": {},
   "outputs": [],
   "source": [
    "files, err := f.Readdir(0)"
   ]
  },
  {
   "cell_type": "code",
   "execution_count": 26,
   "metadata": {},
   "outputs": [
    {
     "data": {
      "text/plain": [
       "[0xc0005c9ad0 0xc0005c9ba0 0xc0005c9c70 0xc0005c9d40 0xc0005c9e10 0xc0005c9ee0 0xc0001a4000 0xc0001a40d0 0xc0001a41a0 0xc0001a4270 0xc0001a4340 0xc0001a4410]"
      ]
     },
     "execution_count": 26,
     "metadata": {},
     "output_type": "execute_result"
    }
   ],
   "source": [
    "files"
   ]
  },
  {
   "cell_type": "code",
   "execution_count": 27,
   "metadata": {},
   "outputs": [
    {
     "name": "stdout",
     "output_type": "stream",
     "text": [
      "false Thumbs.db\n",
      "false 卫视科技-网站调研文本.docx\n",
      "false .DS_Store\n",
      "true 20210704picture\n",
      "false 防溺水竞争价格比较-csb20210628.pptx\n",
      "false 1990-2017年全球231个国家和地区因溺水死亡的人数.xlsx\n",
      "false global report on drowning - WHO.pdf\n",
      "false 游泳池溺水自动报警系统设计_李榆.caj\n",
      "false (目录)2016-2020年泳池设备行业发展趋势预测与投资咨询报告.docx\n",
      "false 2021中国数据智能产业发展研究报告.pdf\n",
      "false 产品手册-CSB.pptx\n",
      "false ADAS产品手册.docx\n"
     ]
    }
   ],
   "source": [
    "for i, v := range files {\n",
    "    fmt.Println(v.IsDir(), v.Name())\n",
    "}"
   ]
  },
  {
   "cell_type": "code",
   "execution_count": null,
   "metadata": {},
   "outputs": [],
   "source": []
  },
  {
   "cell_type": "code",
   "execution_count": 93,
   "metadata": {},
   "outputs": [],
   "source": [
    "file_path := []string{}"
   ]
  },
  {
   "cell_type": "code",
   "execution_count": 82,
   "metadata": {},
   "outputs": [],
   "source": [
    "func get_file_path(list *[]string, file_dir string) {\n",
    "    *list = append(*list, file_dir)\n",
    "}"
   ]
  },
  {
   "cell_type": "code",
   "execution_count": 85,
   "metadata": {},
   "outputs": [],
   "source": [
    "get_file_path(&file_path, \"hello\")"
   ]
  },
  {
   "cell_type": "code",
   "execution_count": 86,
   "metadata": {},
   "outputs": [
    {
     "data": {
      "text/plain": [
       "[hello hello]"
      ]
     },
     "execution_count": 86,
     "metadata": {},
     "output_type": "execute_result"
    }
   ],
   "source": [
    "file_path"
   ]
  },
  {
   "cell_type": "code",
   "execution_count": 96,
   "metadata": {},
   "outputs": [
    {
     "name": "stdout",
     "output_type": "stream",
     "text": [
      "success\n"
     ]
    }
   ],
   "source": [
    "if 1+1 == 2 && 2+2 == 4 {\n",
    "    fmt.Println(\"success\")\n",
    "}"
   ]
  },
  {
   "cell_type": "code",
   "execution_count": 92,
   "metadata": {},
   "outputs": [],
   "source": [
    "func GetFilePath(list *[]string, file_dir string) {\n",
    "    err := filepath.Walk(\n",
    "        file_dir, \n",
    "        func(path string, info os.FileInfo, err error) error {\n",
    "            if err != nil {\n",
    "                fmt.Println(err)\n",
    "                return err\n",
    "            }\n",
    "            if !info.IsDir() {\n",
    "                *list = append(*list, path)\n",
    "            }\n",
    "//             fmt.Printf(\"%v | %s\\n\", info.IsDir(), path)\n",
    "            fmt.Printf(\"%v | %s\\n\", info.IsDir(), info.Name())\n",
    "            return nil\n",
    "    })\n",
    "    if err != nil {\n",
    "        fmt.Println(err)\n",
    "    }\n",
    "}"
   ]
  },
  {
   "cell_type": "code",
   "execution_count": 94,
   "metadata": {},
   "outputs": [
    {
     "name": "stdout",
     "output_type": "stream",
     "text": [
      "true | 20210704picture\n",
      "false | IMG_20210522_184837.jpg\n",
      "false | IMG_20210522_184926.jpg\n",
      "false | IMG_20210522_184944.jpg\n",
      "false | IMG_20210522_185025.jpg\n",
      "false | IMG_20210522_185130.jpg\n",
      "false | IMG_20210522_185133.jpg\n",
      "false | IMG_20210522_185135.jpg\n",
      "false | IMG_20210522_185141.jpg\n",
      "false | IMG_20210522_185145.jpg\n",
      "false | IMG_20210522_185148.jpg\n",
      "false | IMG_20210523_144128_edit_142734546706865.jpg\n",
      "false | IMG_20210523_144133.jpg\n"
     ]
    }
   ],
   "source": [
    "GetFilePath(&file_path, \"/Users/kcl/Documents/TBSI/AI-JWtech/ADAS/cai_info/20210704picture\")"
   ]
  },
  {
   "cell_type": "code",
   "execution_count": 95,
   "metadata": {},
   "outputs": [
    {
     "data": {
      "text/plain": [
       "[/Users/kcl/Documents/TBSI/AI-JWtech/ADAS/cai_info/20210704picture/IMG_20210522_184837.jpg /Users/kcl/Documents/TBSI/AI-JWtech/ADAS/cai_info/20210704picture/IMG_20210522_184926.jpg /Users/kcl/Documents/TBSI/AI-JWtech/ADAS/cai_info/20210704picture/IMG_20210522_184944.jpg /Users/kcl/Documents/TBSI/AI-JWtech/ADAS/cai_info/20210704picture/IMG_20210522_185025.jpg /Users/kcl/Documents/TBSI/AI-JWtech/ADAS/cai_info/20210704picture/IMG_20210522_185130.jpg /Users/kcl/Documents/TBSI/AI-JWtech/ADAS/cai_info/20210704picture/IMG_20210522_185133.jpg /Users/kcl/Documents/TBSI/AI-JWtech/ADAS/cai_info/20210704picture/IMG_20210522_185135.jpg /Users/kcl/Documents/TBSI/AI-JWtech/ADAS/cai_info/20210704picture/IMG_20210522_185141.jpg /Users/kcl/Documents/TBSI/AI-JWtech/ADAS/cai_info/20210704picture/IMG_20210522_185145.jpg /Users/kcl/Documents/TBSI/AI-JWtech/ADAS/cai_info/20210704picture/IMG_20210522_185148.jpg /Users/kcl/Documents/TBSI/AI-JWtech/ADAS/cai_info/20210704picture/IMG_20210523_144128_edit_142734546706865.jpg /Users/kcl/Documents/TBSI/AI-JWtech/ADAS/cai_info/20210704picture/IMG_20210523_144133.jpg]"
      ]
     },
     "execution_count": 95,
     "metadata": {},
     "output_type": "execute_result"
    }
   ],
   "source": [
    "file_path"
   ]
  },
  {
   "cell_type": "code",
   "execution_count": null,
   "metadata": {},
   "outputs": [],
   "source": []
  }
 ],
 "metadata": {
  "kernelspec": {
   "display_name": "Go",
   "language": "go",
   "name": "gophernotes"
  },
  "language_info": {
   "codemirror_mode": "",
   "file_extension": ".go",
   "mimetype": "",
   "name": "go",
   "nbconvert_exporter": "",
   "pygments_lexer": "",
   "version": "go1.17.8"
  }
 },
 "nbformat": 4,
 "nbformat_minor": 4
}
