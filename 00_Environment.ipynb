{
 "cells": [
  {
   "cell_type": "markdown",
   "metadata": {},
   "source": [
    "# Brief"
   ]
  },
  {
   "cell_type": "code",
   "execution_count": 1,
   "metadata": {},
   "outputs": [],
   "source": [
    "import \"fmt\""
   ]
  },
  {
   "cell_type": "markdown",
   "metadata": {},
   "source": [
    "Simplist way to define variables and functions, which is very similar to `python`."
   ]
  },
  {
   "cell_type": "code",
   "execution_count": 2,
   "metadata": {},
   "outputs": [],
   "source": [
    "a, b := 3, 4"
   ]
  },
  {
   "cell_type": "code",
   "execution_count": 3,
   "metadata": {},
   "outputs": [
    {
     "name": "stdout",
     "output_type": "stream",
     "text": [
      "3 4\n"
     ]
    },
    {
     "data": {
      "text/plain": [
       "4 <nil>"
      ]
     },
     "execution_count": 3,
     "metadata": {},
     "output_type": "execute_result"
    }
   ],
   "source": [
    "fmt.Println(a, b)"
   ]
  },
  {
   "cell_type": "markdown",
   "metadata": {},
   "source": [
    "When printing out the value using `fmt.Println()` function, there is an additional `int <nil>` thing at the end. To erase this out, add double `;;` at the end of the last sentence. More details can refer to [this](https://github.com/gopherdata/gophernotes/issues/179) link."
   ]
  },
  {
   "cell_type": "code",
   "execution_count": 4,
   "metadata": {
    "scrolled": true
   },
   "outputs": [
    {
     "name": "stdout",
     "output_type": "stream",
     "text": [
      "3 4\n"
     ]
    }
   ],
   "source": [
    "fmt.Println(a, b);;"
   ]
  },
  {
   "cell_type": "markdown",
   "metadata": {},
   "source": [
    "---"
   ]
  },
  {
   "cell_type": "markdown",
   "metadata": {},
   "source": [
    "To install 3rd party package for `golang`, use the following cmd:\n",
    "```bash\n",
    "go get -u github.com/gorilla/mux\n",
    "```\n",
    "\n",
    "The package can be fond in `GOPATH/src/golang/...`, which is different from the installation directory of the main body of `golang`. The way to get `GOPATH` is also simple. Use:\n",
    "```bash\n",
    "go env\n",
    "```\n",
    "\n",
    "and all the setting directories will be listed."
   ]
  },
  {
   "cell_type": "markdown",
   "metadata": {},
   "source": [
    "---"
   ]
  },
  {
   "cell_type": "markdown",
   "metadata": {},
   "source": [
    "# More Print Related Methods\n",
    "\n",
    "### General\n",
    "+ `%v` - value in default format\n",
    "+ `%T` - data type\n",
    "+ `%%` - literal %"
   ]
  },
  {
   "cell_type": "code",
   "execution_count": 5,
   "metadata": {},
   "outputs": [
    {
     "name": "stdout",
     "output_type": "stream",
     "text": [
      "Print: 10 int %"
     ]
    }
   ],
   "source": [
    "fmt.Printf(\"Print: %v %T %%\", 10, 10);;"
   ]
  },
  {
   "cell_type": "markdown",
   "metadata": {},
   "source": [
    "### Boolean\n",
    "+ `%t` - true or false"
   ]
  },
  {
   "cell_type": "code",
   "execution_count": 6,
   "metadata": {},
   "outputs": [
    {
     "name": "stdout",
     "output_type": "stream",
     "text": [
      "Print: %!t(int=0) true %!t(string=true)"
     ]
    }
   ],
   "source": [
    "fmt.Printf(\"Print: %t %t %t\", 0, true, \"true\");;"
   ]
  },
  {
   "cell_type": "markdown",
   "metadata": {},
   "source": [
    "### Integer\n",
    "+ `%b` - base 2\n",
    "+ `%o` - base 8\n",
    "+ `%d` - base 10\n",
    "+ `%x` - base 16"
   ]
  },
  {
   "cell_type": "code",
   "execution_count": 7,
   "metadata": {},
   "outputs": [
    {
     "name": "stdout",
     "output_type": "stream",
     "text": [
      "Print: 11 11 11 11"
     ]
    }
   ],
   "source": [
    "fmt.Printf(\"Print: %b %o %d %x\", 3, 9, 11, 17);;"
   ]
  },
  {
   "cell_type": "markdown",
   "metadata": {},
   "source": [
    "+ `%09d` - pads digits to length 9 preceeding 0's\n",
    "+ `%-4d` - pads with spaces (width 4, left justified)"
   ]
  },
  {
   "cell_type": "code",
   "execution_count": 8,
   "metadata": {},
   "outputs": [
    {
     "name": "stdout",
     "output_type": "stream",
     "text": [
      "Print: 0000000054 34       "
     ]
    }
   ],
   "source": [
    "fmt.Printf(\"Print: %010d %-9d\", 54, 34);;"
   ]
  },
  {
   "cell_type": "markdown",
   "metadata": {},
   "source": [
    "### Floating Points\n",
    "+ `%e` - scientific notion\n",
    "+ `%f` or `%F` - decimal no exponent\n",
    "+ `%g` - for large exponents"
   ]
  },
  {
   "cell_type": "code",
   "execution_count": 9,
   "metadata": {},
   "outputs": [
    {
     "name": "stdout",
     "output_type": "stream",
     "text": [
      "Print: 3.140000e+00 5.345600 832.249857 832.2498570952635"
     ]
    }
   ],
   "source": [
    "fmt.Printf(\"Print: %e %f %F %g\", 3.14, \n",
    "           5.3456, 832.2498570952634095872634987526034,\n",
    "           832.2498570952634095872634987526034);;"
   ]
  },
  {
   "cell_type": "markdown",
   "metadata": {},
   "source": [
    "+ `%f` - default width, default precision\n",
    "+ `%20f` - width 20, default precision\n",
    "+ `%.2f` - default width, precision 2\n",
    "+ `%10.2f` - width 10, precision 2\n",
    "+ `%5.f` - width 5, precision 0"
   ]
  },
  {
   "cell_type": "code",
   "execution_count": 10,
   "metadata": {},
   "outputs": [
    {
     "name": "stdout",
     "output_type": "stream",
     "text": [
      "Print:          3333.141590 3333.14    3333.14  3333"
     ]
    }
   ],
   "source": [
    "fmt.Printf(\"Print: %20f %.2f %10.2f %5.f\", \n",
    "           3333.14159, 3333.14159, 3333.14159, 3333.14159);;"
   ]
  },
  {
   "cell_type": "markdown",
   "metadata": {},
   "source": [
    "### Strings\n",
    "+ `%s` - default\n",
    "+ `%q` - double quoted string"
   ]
  },
  {
   "cell_type": "code",
   "execution_count": 11,
   "metadata": {},
   "outputs": [
    {
     "name": "stdout",
     "output_type": "stream",
     "text": [
      "Print: hello \"world\""
     ]
    }
   ],
   "source": [
    "fmt.Printf(\"Print: %s %q\", \"hello\", \"world\");;"
   ]
  },
  {
   "cell_type": "markdown",
   "metadata": {},
   "source": [
    "## Save string to Object"
   ]
  },
  {
   "cell_type": "code",
   "execution_count": 12,
   "metadata": {},
   "outputs": [
    {
     "name": "stdout",
     "output_type": "stream",
     "text": [
      "Hello int 10"
     ]
    }
   ],
   "source": [
    "var str string = fmt.Sprintf(\"Hello %T %v\", 10, 10)\n",
    "fmt.Printf(str);;"
   ]
  },
  {
   "cell_type": "code",
   "execution_count": null,
   "metadata": {},
   "outputs": [],
   "source": []
  }
 ],
 "metadata": {
  "kernelspec": {
   "display_name": "Go",
   "language": "go",
   "name": "gophernotes"
  },
  "language_info": {
   "codemirror_mode": "",
   "file_extension": ".go",
   "mimetype": "",
   "name": "go",
   "nbconvert_exporter": "",
   "pygments_lexer": "",
   "version": "go1.17.8"
  }
 },
 "nbformat": 4,
 "nbformat_minor": 4
}
