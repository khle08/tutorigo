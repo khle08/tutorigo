{
 "cells": [
  {
   "cell_type": "markdown",
   "metadata": {},
   "source": [
    "# Brief\n",
    "\n",
    "Go 语言意在用最直接，简单，高效的方式解决问题，是一个编译后才运行的语言，具有非常方便的垃圾收集机制和强大的运行时反射机制，是一个快速的静态类型编译语言。Go 语言最大的特点在于并发编程，比绝大多数其他语言简洁，这个特性奠定了未来进入高并发性能场景的重要筹码，Go 的并罚执行单元是一种称为 goroutine 的協程。"
   ]
  },
  {
   "cell_type": "code",
   "execution_count": 1,
   "metadata": {},
   "outputs": [],
   "source": [
    "import (\n",
    "    \"fmt\"\n",
    "    \"reflect\"\n",
    ")"
   ]
  },
  {
   "cell_type": "markdown",
   "metadata": {},
   "source": [
    "# 转译字符\n",
    "| 符号 | 英文名 | 中文名 |\n",
    "| --- | --- | --- |\n",
    "| \\\\ | --- | 反斜线 |\n",
    "| \\a | alert sound | 警报声 |\n",
    "| \\b | backslash | 推格 |\n",
    "| \\f | form feed | 换页 |\n",
    "| \\n | new line | 换行 |\n",
    "| \\r | return | 回车替代 |\n",
    "| \\t | tab | 制表符 |\n",
    "| \\v | vertical tab | 垂直制表符 |"
   ]
  },
  {
   "cell_type": "code",
   "execution_count": 2,
   "metadata": {},
   "outputs": [
    {
     "name": "stdout",
     "output_type": "stream",
     "text": [
      "hi there\n",
      "\"hi there\"\n"
     ]
    }
   ],
   "source": [
    "fmt.Println(\"hi there\")\n",
    "fmt.Println(\"\\\"hi there\\\"\");;"
   ]
  },
  {
   "cell_type": "code",
   "execution_count": null,
   "metadata": {},
   "outputs": [],
   "source": []
  },
  {
   "cell_type": "markdown",
   "metadata": {},
   "source": [
    "Simplist way to define variables and functions, which is very similar to `python`."
   ]
  },
  {
   "cell_type": "code",
   "execution_count": 3,
   "metadata": {},
   "outputs": [
    {
     "name": "stdout",
     "output_type": "stream",
     "text": [
      "3 4\n"
     ]
    },
    {
     "data": {
      "text/plain": [
       "4 <nil>"
      ]
     },
     "execution_count": 3,
     "metadata": {},
     "output_type": "execute_result"
    }
   ],
   "source": [
    "a, b := 3, 4\n",
    "fmt.Println(a, b)"
   ]
  },
  {
   "cell_type": "markdown",
   "metadata": {},
   "source": [
    "When printing out the value using `fmt.Println()` function, there is an additional `int <nil>` thing at the end. To erase this out, add double `;;` at the end of the last sentence. More details can refer to [this](https://github.com/gopherdata/gophernotes/issues/179) link."
   ]
  },
  {
   "cell_type": "code",
   "execution_count": 4,
   "metadata": {},
   "outputs": [
    {
     "name": "stdout",
     "output_type": "stream",
     "text": [
      "3 4\n"
     ]
    }
   ],
   "source": [
    "fmt.Println(a, b);;"
   ]
  },
  {
   "cell_type": "code",
   "execution_count": null,
   "metadata": {},
   "outputs": [],
   "source": []
  },
  {
   "cell_type": "markdown",
   "metadata": {},
   "source": [
    "# More Print Related Methods\n",
    "\n",
    "### General\n",
    "+ `%v` - value in default format\n",
    "+ `%T` - data type\n",
    "+ `%%` - literal %"
   ]
  },
  {
   "cell_type": "code",
   "execution_count": 5,
   "metadata": {},
   "outputs": [
    {
     "name": "stdout",
     "output_type": "stream",
     "text": [
      "Print: 10 int %"
     ]
    }
   ],
   "source": [
    "fmt.Printf(\"Print: %v %T %%\", 10, 10);;"
   ]
  },
  {
   "cell_type": "markdown",
   "metadata": {},
   "source": [
    "### Boolean\n",
    "+ `%t` - true or false"
   ]
  },
  {
   "cell_type": "code",
   "execution_count": 6,
   "metadata": {},
   "outputs": [
    {
     "name": "stdout",
     "output_type": "stream",
     "text": [
      "Print: %!t(int=0) true %!t(string=true)"
     ]
    }
   ],
   "source": [
    "fmt.Printf(\"Print: %t %t %t\", 0, true, \"true\");;"
   ]
  },
  {
   "cell_type": "markdown",
   "metadata": {},
   "source": [
    "### Integer\n",
    "+ `%b` - base 2\n",
    "+ `%o` - base 8\n",
    "+ `%d` - base 10\n",
    "+ `%x` - base 16\n",
    "+ `%U` - 四位 16 进制 int32"
   ]
  },
  {
   "cell_type": "code",
   "execution_count": 7,
   "metadata": {},
   "outputs": [
    {
     "name": "stdout",
     "output_type": "stream",
     "text": [
      "Print: 11 11 11 11"
     ]
    }
   ],
   "source": [
    "fmt.Printf(\"Print: %b %o %d %x\", 3, 9, 11, 17);;"
   ]
  },
  {
   "cell_type": "markdown",
   "metadata": {},
   "source": [
    "+ `%09d` - pads digits to length 9 preceeding 0's\n",
    "+ `%-4d` - pads with spaces (width 4, left justified)"
   ]
  },
  {
   "cell_type": "code",
   "execution_count": 8,
   "metadata": {},
   "outputs": [
    {
     "name": "stdout",
     "output_type": "stream",
     "text": [
      "Print: 0000000054 34       "
     ]
    }
   ],
   "source": [
    "fmt.Printf(\"Print: %010d %-9d\", 54, 34);;"
   ]
  },
  {
   "cell_type": "markdown",
   "metadata": {},
   "source": [
    "### Floating Points\n",
    "+ `%e` - scientific notion\n",
    "+ `%f` or `%F` - decimal no exponent\n",
    "+ `%g` - for large exponents"
   ]
  },
  {
   "cell_type": "code",
   "execution_count": 9,
   "metadata": {},
   "outputs": [
    {
     "name": "stdout",
     "output_type": "stream",
     "text": [
      "Print: 3.140000e+00 5.345600 832.249857 832.2498570952635"
     ]
    }
   ],
   "source": [
    "fmt.Printf(\"Print: %e %f %F %g\", 3.14, \n",
    "           5.3456, 832.2498570952634095872634987526034,\n",
    "           832.2498570952634095872634987526034);;"
   ]
  },
  {
   "cell_type": "markdown",
   "metadata": {},
   "source": [
    "+ `%f` - default width, default precision\n",
    "+ `%20f` - width 20, default precision\n",
    "+ `%.2f` - default width, precision 2\n",
    "+ `%10.2f` - width 10, precision 2\n",
    "+ `%5.f` - width 5, precision 0"
   ]
  },
  {
   "cell_type": "code",
   "execution_count": 10,
   "metadata": {},
   "outputs": [
    {
     "name": "stdout",
     "output_type": "stream",
     "text": [
      "Print:          3333.141590 3333.14    3333.14  3333"
     ]
    }
   ],
   "source": [
    "fmt.Printf(\"Print: %20f %.2f %10.2f %5.f\", \n",
    "           3333.14159, 3333.14159, 3333.14159, 3333.14159);;"
   ]
  },
  {
   "cell_type": "markdown",
   "metadata": {},
   "source": [
    "### Strings\n",
    "+ `%s` - default\n",
    "+ `%q` - double quoted string"
   ]
  },
  {
   "cell_type": "code",
   "execution_count": 11,
   "metadata": {},
   "outputs": [
    {
     "name": "stdout",
     "output_type": "stream",
     "text": [
      "Print: hello \"world\""
     ]
    }
   ],
   "source": [
    "fmt.Printf(\"Print: %s %q\", \"hello\", \"world\");;"
   ]
  },
  {
   "cell_type": "markdown",
   "metadata": {},
   "source": [
    "## Save string to Object"
   ]
  },
  {
   "cell_type": "code",
   "execution_count": 12,
   "metadata": {},
   "outputs": [
    {
     "name": "stdout",
     "output_type": "stream",
     "text": [
      "Hello int 10"
     ]
    }
   ],
   "source": [
    "var str string = fmt.Sprintf(\"Hello %T %v\", 10, 10)\n",
    "fmt.Printf(str);;"
   ]
  },
  {
   "cell_type": "code",
   "execution_count": null,
   "metadata": {},
   "outputs": [],
   "source": []
  },
  {
   "cell_type": "markdown",
   "metadata": {},
   "source": [
    "# Declare\n",
    "All the data will be distributed with a memory space in the computer according to its data type. `bit` is the smallest unit that composes the data and `byte` is called 字节, which is equivalent to 8 bit.\n",
    "\n",
    "| name | length | range | default |\n",
    "| --- | --- | --- | --- |\n",
    "| int8 | 8 bit | -128~127 | 0 |\n",
    "| uint8 | 8 bit | 0~255 | 0 |\n",
    "| int16 | 16 bit | -32768~32767 | 0 |\n",
    "| uint16 | 16 bit | 0~65535 | 0 |\n",
    "| int32 | 32 bit | -2147483648~2147483647 | 0 |\n",
    "| uint32 | 32 bit | 0~4294967295 | 0 |\n",
    "| int64 | 64 bit | -9223372036854775808~9223372036854775807 | 0 |\n",
    "| uint64 | 64 bit | 0~18446744073709551615 | 0 |\n",
    "| int | 32/64 bit | / | 0 |\n",
    "| uint | 32/64 bit | / | 0 |\n",
    "\n",
    "+ decimal - 十进制，无需前缀\n",
    "+ binary - 二进制，前缀 `0b` or `0B`\n",
    "+ octal - 八进制，前缀 `0o` or `0O`\n",
    "+ hexadecimal - 十六进制，前缀 `0x` or `0X`"
   ]
  },
  {
   "cell_type": "code",
   "execution_count": 13,
   "metadata": {},
   "outputs": [],
   "source": [
    "var i8 int8 = 8                      // i8  :=  8\n",
    "var i16 int16 = 16                   // i16 := 16\n",
    "var i32 int32 = 32                   // i32 := 32\n",
    "var i64 int64 = 64                   // i64 := 64\n",
    "\n",
    "var f32 float32 = 32.32              // f32 := 32.32\n",
    "var f64 float64 = 64.64              // f64 := 64.64\n",
    "\n",
    "var c64 complex64 = complex(3, 2)    // c64  := complex(3, 2)\n",
    "var c128 complex128 = complex(4, 3)  // c128 := complex(4, 3)\n",
    "\n",
    "var t, f bool = true, false          // t, f := true, false\n",
    "var s string = \"string\"              //    s := \"string\"\n",
    "var r rune = 'b'                     //    r := 'b'"
   ]
  },
  {
   "cell_type": "markdown",
   "metadata": {},
   "source": [
    "# Data Type Transformation\n",
    "+ `float` and `int` can be both transformed with each others."
   ]
  },
  {
   "cell_type": "code",
   "execution_count": 14,
   "metadata": {
    "scrolled": true
   },
   "outputs": [
    {
     "data": {
      "text/plain": [
       "32"
      ]
     },
     "execution_count": 14,
     "metadata": {},
     "output_type": "execute_result"
    }
   ],
   "source": [
    "int16(f32)"
   ]
  },
  {
   "cell_type": "code",
   "execution_count": 15,
   "metadata": {},
   "outputs": [
    {
     "data": {
      "text/plain": [
       "32"
      ]
     },
     "execution_count": 15,
     "metadata": {},
     "output_type": "execute_result"
    }
   ],
   "source": [
    "float64(i32)"
   ]
  },
  {
   "cell_type": "markdown",
   "metadata": {},
   "source": [
    "+ Note: `complex` type can not be changed **FROM or TO** the other objects. "
   ]
  },
  {
   "cell_type": "code",
   "execution_count": 16,
   "metadata": {},
   "outputs": [
    {
     "ename": "ERROR",
     "evalue": "repl.go:1:7: cannot convert complex64 to int32: c64",
     "output_type": "error",
     "traceback": [
      "repl.go:1:7: cannot convert complex64 to int32: c64"
     ]
    }
   ],
   "source": [
    "int32(c64)"
   ]
  },
  {
   "cell_type": "code",
   "execution_count": 17,
   "metadata": {},
   "outputs": [
    {
     "ename": "ERROR",
     "evalue": "repl.go:1:11: cannot convert int16 to complex64: i16",
     "output_type": "error",
     "traceback": [
      "repl.go:1:11: cannot convert int16 to complex64: i16"
     ]
    }
   ],
   "source": [
    "complex64(i16)"
   ]
  },
  {
   "cell_type": "markdown",
   "metadata": {},
   "source": [
    "+ `rune` can be convert to `string` but `string` **CANNOT** be transformed back to `rune`."
   ]
  },
  {
   "cell_type": "code",
   "execution_count": 18,
   "metadata": {},
   "outputs": [
    {
     "data": {
      "text/plain": [
       "b"
      ]
     },
     "execution_count": 18,
     "metadata": {},
     "output_type": "execute_result"
    }
   ],
   "source": [
    "string(r)"
   ]
  },
  {
   "cell_type": "code",
   "execution_count": 19,
   "metadata": {},
   "outputs": [
    {
     "ename": "ERROR",
     "evalue": "repl.go:1:6: cannot convert string to int32: s",
     "output_type": "error",
     "traceback": [
      "repl.go:1:6: cannot convert string to int32: s"
     ]
    }
   ],
   "source": [
    "rune(s)"
   ]
  },
  {
   "cell_type": "markdown",
   "metadata": {},
   "source": [
    "# Data Type\n",
    "There are three methods that can get the data type of a specific object."
   ]
  },
  {
   "cell_type": "code",
   "execution_count": 9,
   "metadata": {},
   "outputs": [
    {
     "name": "stdout",
     "output_type": "stream",
     "text": [
      "complex128"
     ]
    }
   ],
   "source": [
    "///// 1st method /////\n",
    "fmt.Printf(\"%T\", c128);;"
   ]
  },
  {
   "cell_type": "code",
   "execution_count": 10,
   "metadata": {},
   "outputs": [
    {
     "name": "stdout",
     "output_type": "stream",
     "text": [
      "float64\n"
     ]
    }
   ],
   "source": [
    "///// 2nd method /////\n",
    "f64_t := reflect.TypeOf(f64)\n",
    "fmt.Println(f64_t);;"
   ]
  },
  {
   "cell_type": "code",
   "execution_count": 11,
   "metadata": {},
   "outputs": [
    {
     "data": {
      "text/plain": [
       "*reflect.rtype"
      ]
     },
     "execution_count": 11,
     "metadata": {},
     "output_type": "execute_result"
    }
   ],
   "source": [
    "reflect.TypeOf(f64_t)"
   ]
  },
  {
   "cell_type": "code",
   "execution_count": 12,
   "metadata": {},
   "outputs": [
    {
     "data": {
      "text/plain": [
       "int32"
      ]
     },
     "execution_count": 12,
     "metadata": {},
     "output_type": "execute_result"
    }
   ],
   "source": [
    "///// 3rd method /////\n",
    "var i32_t reflect.Kind = reflect.ValueOf(i32).Kind()\n",
    "//  i32_t := reflect.ValueOf(i32).Kind()    ... same\n",
    "i32_t"
   ]
  },
  {
   "cell_type": "code",
   "execution_count": 13,
   "metadata": {},
   "outputs": [
    {
     "data": {
      "text/plain": [
       "reflect.Kind"
      ]
     },
     "execution_count": 13,
     "metadata": {},
     "output_type": "execute_result"
    }
   ],
   "source": [
    "reflect.TypeOf(i32_t)"
   ]
  },
  {
   "cell_type": "markdown",
   "metadata": {},
   "source": [
    "# Array Declaration\n",
    "Array is a container that can be used to hold data that belongs to the same data type sequentially."
   ]
  },
  {
   "cell_type": "code",
   "execution_count": 14,
   "metadata": {},
   "outputs": [],
   "source": [
    "var arr_int [4]int = [4]int{1, 2, 3, 4}\n",
    "var arr_bool [3]bool = [3]bool{true, false, false}\n",
    "var arr_float []float32 = []float32{3, 4, 5.3, 6, 7, 8, 9.0}"
   ]
  },
  {
   "cell_type": "markdown",
   "metadata": {},
   "source": [
    "The data type can be obtained by the same ways introduced above."
   ]
  },
  {
   "cell_type": "code",
   "execution_count": 15,
   "metadata": {
    "scrolled": true
   },
   "outputs": [
    {
     "name": "stdout",
     "output_type": "stream",
     "text": [
      "[4]int"
     ]
    }
   ],
   "source": [
    "fmt.Printf(\"%T\", arr_int);;"
   ]
  },
  {
   "cell_type": "code",
   "execution_count": 16,
   "metadata": {},
   "outputs": [
    {
     "data": {
      "text/plain": [
       "[]float32"
      ]
     },
     "execution_count": 16,
     "metadata": {},
     "output_type": "execute_result"
    }
   ],
   "source": [
    "reflect.TypeOf(arr_float)"
   ]
  },
  {
   "cell_type": "code",
   "execution_count": 17,
   "metadata": {},
   "outputs": [
    {
     "data": {
      "text/plain": [
       "array"
      ]
     },
     "execution_count": 17,
     "metadata": {},
     "output_type": "execute_result"
    }
   ],
   "source": [
    "reflect.ValueOf(arr_bool).Kind()"
   ]
  },
  {
   "cell_type": "markdown",
   "metadata": {},
   "source": [
    "## Array Slice\n",
    "This is similar to `python` but the element can not be indexed by `-1`."
   ]
  },
  {
   "cell_type": "code",
   "execution_count": 18,
   "metadata": {},
   "outputs": [
    {
     "data": {
      "text/plain": [
       "[1 2 3 4]"
      ]
     },
     "execution_count": 18,
     "metadata": {},
     "output_type": "execute_result"
    }
   ],
   "source": [
    "arr_int"
   ]
  },
  {
   "cell_type": "code",
   "execution_count": 19,
   "metadata": {},
   "outputs": [
    {
     "data": {
      "text/plain": [
       "[2 3 4]"
      ]
     },
     "execution_count": 19,
     "metadata": {},
     "output_type": "execute_result"
    }
   ],
   "source": [
    "arr_int[1:]"
   ]
  },
  {
   "cell_type": "code",
   "execution_count": 20,
   "metadata": {},
   "outputs": [
    {
     "data": {
      "text/plain": [
       "false"
      ]
     },
     "execution_count": 20,
     "metadata": {},
     "output_type": "execute_result"
    }
   ],
   "source": [
    "arr_bool[2]"
   ]
  },
  {
   "cell_type": "code",
   "execution_count": null,
   "metadata": {},
   "outputs": [],
   "source": []
  },
  {
   "cell_type": "code",
   "execution_count": 91,
   "metadata": {},
   "outputs": [],
   "source": [
    "var arr [3][3]int"
   ]
  },
  {
   "cell_type": "code",
   "execution_count": 92,
   "metadata": {},
   "outputs": [
    {
     "data": {
      "text/plain": [
       "[[0 0 0] [0 0 0] [0 0 0]]"
      ]
     },
     "execution_count": 92,
     "metadata": {},
     "output_type": "execute_result"
    }
   ],
   "source": [
    "arr"
   ]
  },
  {
   "cell_type": "markdown",
   "metadata": {},
   "source": [
    "# Map"
   ]
  },
  {
   "cell_type": "code",
   "execution_count": 21,
   "metadata": {},
   "outputs": [],
   "source": [
    "var m map[string]int = map[string]int {\"a\": 20, \"b\": 30, \"c\": 40}"
   ]
  },
  {
   "cell_type": "code",
   "execution_count": 22,
   "metadata": {},
   "outputs": [
    {
     "data": {
      "text/plain": [
       "map[string]int"
      ]
     },
     "execution_count": 22,
     "metadata": {},
     "output_type": "execute_result"
    }
   ],
   "source": [
    "reflect.TypeOf(m)"
   ]
  },
  {
   "cell_type": "code",
   "execution_count": 23,
   "metadata": {},
   "outputs": [
    {
     "data": {
      "text/plain": [
       "map"
      ]
     },
     "execution_count": 23,
     "metadata": {},
     "output_type": "execute_result"
    }
   ],
   "source": [
    "reflect.ValueOf(m).Kind()"
   ]
  },
  {
   "cell_type": "code",
   "execution_count": null,
   "metadata": {},
   "outputs": [],
   "source": []
  },
  {
   "cell_type": "markdown",
   "metadata": {},
   "source": [
    "# Pointer"
   ]
  },
  {
   "cell_type": "code",
   "execution_count": 24,
   "metadata": {},
   "outputs": [],
   "source": [
    "var x int = 5\n",
    "y := 3.14"
   ]
  },
  {
   "cell_type": "code",
   "execution_count": 25,
   "metadata": {},
   "outputs": [
    {
     "data": {
      "text/plain": [
       "0xc0005cc068"
      ]
     },
     "execution_count": 25,
     "metadata": {},
     "output_type": "execute_result"
    }
   ],
   "source": [
    "&x"
   ]
  },
  {
   "cell_type": "code",
   "execution_count": 26,
   "metadata": {},
   "outputs": [],
   "source": [
    "var xPtr *int = &x"
   ]
  },
  {
   "cell_type": "code",
   "execution_count": 27,
   "metadata": {},
   "outputs": [
    {
     "data": {
      "text/plain": [
       "0xc0005cc068"
      ]
     },
     "execution_count": 27,
     "metadata": {},
     "output_type": "execute_result"
    }
   ],
   "source": [
    "xPtr"
   ]
  },
  {
   "cell_type": "code",
   "execution_count": 28,
   "metadata": {},
   "outputs": [
    {
     "data": {
      "text/plain": [
       "5"
      ]
     },
     "execution_count": 28,
     "metadata": {},
     "output_type": "execute_result"
    }
   ],
   "source": [
    "*xPtr"
   ]
  },
  {
   "cell_type": "code",
   "execution_count": 29,
   "metadata": {},
   "outputs": [],
   "source": [
    "yPtr := &y"
   ]
  },
  {
   "cell_type": "code",
   "execution_count": 30,
   "metadata": {},
   "outputs": [
    {
     "data": {
      "text/plain": [
       "0xc0005cc070"
      ]
     },
     "execution_count": 30,
     "metadata": {},
     "output_type": "execute_result"
    }
   ],
   "source": [
    "yPtr"
   ]
  },
  {
   "cell_type": "code",
   "execution_count": 31,
   "metadata": {},
   "outputs": [
    {
     "data": {
      "text/plain": [
       "3.14"
      ]
     },
     "execution_count": 31,
     "metadata": {},
     "output_type": "execute_result"
    }
   ],
   "source": [
    "*yPtr"
   ]
  },
  {
   "cell_type": "code",
   "execution_count": null,
   "metadata": {},
   "outputs": [],
   "source": []
  },
  {
   "cell_type": "markdown",
   "metadata": {},
   "source": [
    "# Math Operation\n",
    "Only when the objects have same data type, they can be computed together."
   ]
  },
  {
   "cell_type": "code",
   "execution_count": 43,
   "metadata": {},
   "outputs": [
    {
     "name": "stdout",
     "output_type": "stream",
     "text": [
      "16  and  32.32\n"
     ]
    }
   ],
   "source": [
    "fmt.Println(i16, \" and \", f32);;"
   ]
  },
  {
   "cell_type": "code",
   "execution_count": 41,
   "metadata": {},
   "outputs": [
    {
     "data": {
      "text/plain": [
       "2.02"
      ]
     },
     "execution_count": 41,
     "metadata": {},
     "output_type": "execute_result"
    }
   ],
   "source": [
    "f32 / float32(i16)"
   ]
  },
  {
   "cell_type": "code",
   "execution_count": 42,
   "metadata": {},
   "outputs": [
    {
     "ename": "ERROR",
     "evalue": "repl.go:1:7: mismatched types in binary operation / between <float32> and <int16>: f32 / i16",
     "output_type": "error",
     "traceback": [
      "repl.go:1:7: mismatched types in binary operation / between <float32> and <int16>: f32 / i16"
     ]
    }
   ],
   "source": [
    "f32 / i16"
   ]
  },
  {
   "cell_type": "code",
   "execution_count": null,
   "metadata": {},
   "outputs": [],
   "source": []
  },
  {
   "cell_type": "code",
   "execution_count": 45,
   "metadata": {},
   "outputs": [
    {
     "data": {
      "text/plain": [
       "3"
      ]
     },
     "execution_count": 45,
     "metadata": {},
     "output_type": "execute_result"
    }
   ],
   "source": [
    "i16 / 5"
   ]
  },
  {
   "cell_type": "code",
   "execution_count": 46,
   "metadata": {},
   "outputs": [
    {
     "data": {
      "text/plain": [
       "0"
      ]
     },
     "execution_count": 46,
     "metadata": {},
     "output_type": "execute_result"
    }
   ],
   "source": [
    "0 / i16"
   ]
  },
  {
   "cell_type": "code",
   "execution_count": 47,
   "metadata": {},
   "outputs": [
    {
     "ename": "ERROR",
     "evalue": "repl.go:1:7: division by zero",
     "output_type": "error",
     "traceback": [
      "repl.go:1:7: division by zero"
     ]
    }
   ],
   "source": [
    "i16 / 0"
   ]
  },
  {
   "cell_type": "markdown",
   "metadata": {},
   "source": [
    "## Extensions from Package Functions"
   ]
  },
  {
   "cell_type": "code",
   "execution_count": 48,
   "metadata": {},
   "outputs": [],
   "source": [
    "import \"math\""
   ]
  },
  {
   "cell_type": "code",
   "execution_count": 80,
   "metadata": {},
   "outputs": [
    {
     "name": "stdout",
     "output_type": "stream",
     "text": [
      "64  |  65  |  65  |  NaN  |  false\n"
     ]
    }
   ],
   "source": [
    "fmt.Println(math.Floor(f64),\" | \", \n",
    "            math.Ceil(f64),\" | \", \n",
    "            math.Round(f64),\" | \", \n",
    "            math.NaN(), \" | \", \n",
    "            math.IsNaN(f64));;"
   ]
  },
  {
   "cell_type": "code",
   "execution_count": 79,
   "metadata": {},
   "outputs": [
    {
     "name": "stdout",
     "output_type": "stream",
     "text": [
      "1024  |  10  |  64.64  |  4.640000000000001\n"
     ]
    }
   ],
   "source": [
    "fmt.Println(math.Pow(2, 10), \" | \", \n",
    "            math.Min(f64, 10), \" | \", \n",
    "            math.Max(f64, 10), \" | \",\n",
    "            math.Mod(f64, 10));;"
   ]
  },
  {
   "cell_type": "code",
   "execution_count": null,
   "metadata": {},
   "outputs": [],
   "source": []
  },
  {
   "cell_type": "markdown",
   "metadata": {},
   "source": [
    "# Logical Operator\n",
    "+ `!`: not\n",
    "+ `||`: or\n",
    "+ `&&`: and"
   ]
  },
  {
   "cell_type": "code",
   "execution_count": 1,
   "metadata": {},
   "outputs": [
    {
     "data": {
      "text/plain": [
       "true"
      ]
     },
     "execution_count": 1,
     "metadata": {},
     "output_type": "execute_result"
    }
   ],
   "source": [
    "true || false"
   ]
  },
  {
   "cell_type": "code",
   "execution_count": 2,
   "metadata": {},
   "outputs": [
    {
     "data": {
      "text/plain": [
       "false"
      ]
     },
     "execution_count": 2,
     "metadata": {},
     "output_type": "execute_result"
    }
   ],
   "source": [
    "true && false"
   ]
  },
  {
   "cell_type": "code",
   "execution_count": 3,
   "metadata": {},
   "outputs": [
    {
     "data": {
      "text/plain": [
       "false"
      ]
     },
     "execution_count": 3,
     "metadata": {},
     "output_type": "execute_result"
    }
   ],
   "source": [
    "!true"
   ]
  },
  {
   "cell_type": "code",
   "execution_count": 4,
   "metadata": {},
   "outputs": [
    {
     "data": {
      "text/plain": [
       "true"
      ]
     },
     "execution_count": 4,
     "metadata": {},
     "output_type": "execute_result"
    }
   ],
   "source": [
    "!!true"
   ]
  },
  {
   "cell_type": "code",
   "execution_count": 6,
   "metadata": {},
   "outputs": [
    {
     "data": {
      "text/plain": [
       "true"
      ]
     },
     "execution_count": 6,
     "metadata": {},
     "output_type": "execute_result"
    }
   ],
   "source": [
    "true || false && true"
   ]
  },
  {
   "cell_type": "code",
   "execution_count": null,
   "metadata": {},
   "outputs": [],
   "source": []
  },
  {
   "cell_type": "code",
   "execution_count": null,
   "metadata": {},
   "outputs": [],
   "source": []
  }
 ],
 "metadata": {
  "kernelspec": {
   "display_name": "Go",
   "language": "go",
   "name": "gophernotes"
  },
  "language_info": {
   "codemirror_mode": "",
   "file_extension": ".go",
   "mimetype": "",
   "name": "go",
   "nbconvert_exporter": "",
   "pygments_lexer": "",
   "version": "go1.17.8"
  }
 },
 "nbformat": 4,
 "nbformat_minor": 4
}
