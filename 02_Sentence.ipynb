{
 "cells": [
  {
   "cell_type": "code",
   "execution_count": 2,
   "metadata": {},
   "outputs": [],
   "source": [
    "import \"fmt\""
   ]
  },
  {
   "cell_type": "markdown",
   "metadata": {},
   "source": [
    "# If\n",
    "The statement of `if` is really simple and unique.\n",
    "\n",
    "```go\n",
    "if condition1 {\n",
    "    // do something here ...\n",
    "} else if condition2 {\n",
    "    // do other thing here ...\n",
    "} else {\n",
    "    // do the last thing ...\n",
    "}\n",
    "```"
   ]
  },
  {
   "cell_type": "code",
   "execution_count": null,
   "metadata": {},
   "outputs": [],
   "source": []
  },
  {
   "cell_type": "markdown",
   "metadata": {},
   "source": [
    "# for loop\n",
    "\n",
    "### 1st way (similar to while loop of python)\n",
    "```go\n",
    "x := 0\n",
    "for x < 5 {\n",
    "    fmt.Println(x)\n",
    "    x++\n",
    "}\n",
    "```"
   ]
  },
  {
   "cell_type": "code",
   "execution_count": 3,
   "metadata": {},
   "outputs": [
    {
     "name": "stdout",
     "output_type": "stream",
     "text": [
      "0\n",
      "1\n",
      "2\n",
      "3\n",
      "4\n"
     ]
    }
   ],
   "source": [
    "x := 0\n",
    "for x < 5 {\n",
    "    fmt.Println(x)\n",
    "    x++\n",
    "}"
   ]
  },
  {
   "cell_type": "markdown",
   "metadata": {},
   "source": [
    "### 2nd way\n",
    "\n",
    "```go\n",
    "for x := 0; x <= 5; x++ {\n",
    "    fmt.Println(x)\n",
    "}\n",
    "```"
   ]
  },
  {
   "cell_type": "code",
   "execution_count": 5,
   "metadata": {},
   "outputs": [
    {
     "name": "stdout",
     "output_type": "stream",
     "text": [
      "0\n",
      "1\n",
      "2\n",
      "3\n",
      "4\n"
     ]
    }
   ],
   "source": [
    "for x := 0; x < 5; x++ {\n",
    "    fmt.Println(x)\n",
    "}"
   ]
  },
  {
   "cell_type": "code",
   "execution_count": null,
   "metadata": {},
   "outputs": [],
   "source": []
  },
  {
   "cell_type": "markdown",
   "metadata": {},
   "source": [
    "# switch\n",
    "\n",
    "```go\n",
    "switch {\n",
    "case condition1:\n",
    "    // do first thing ...\n",
    "case condition2:\n",
    "    // do second thing ...\n",
    "default:\n",
    "    // do the default thing ..\n",
    "}\n",
    "```"
   ]
  },
  {
   "cell_type": "code",
   "execution_count": null,
   "metadata": {},
   "outputs": [],
   "source": []
  }
 ],
 "metadata": {
  "kernelspec": {
   "display_name": "Go",
   "language": "go",
   "name": "gophernotes"
  },
  "language_info": {
   "codemirror_mode": "",
   "file_extension": ".go",
   "mimetype": "",
   "name": "go",
   "nbconvert_exporter": "",
   "pygments_lexer": "",
   "version": "go1.17.8"
  }
 },
 "nbformat": 4,
 "nbformat_minor": 4
}
